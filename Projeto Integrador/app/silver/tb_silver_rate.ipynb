{
  "nbformat": 4,
  "nbformat_minor": 0,
  "metadata": {
    "colab": {
      "provenance": []
    },
    "kernelspec": {
      "name": "python3",
      "display_name": "Python 3"
    },
    "language_info": {
      "name": "python"
    }
  },
  "cells": [
    {
      "cell_type": "code",
      "execution_count": null,
      "metadata": {
        "id": "tsAi30T67rFg"
      },
      "outputs": [],
      "source": [
        "from datetime import datetime\n",
        "from pyspark.sql import SparkSession, DataFrame\n",
        "from pyspark.sql.functions import current_timestamp, date_format, col\n",
        "from pyspark.sql.types import StructType, StructField, StringType, TimestampType\n",
        "from typing import List\n",
        "from google.colab import drive\n",
        "\n",
        "drive.mount('/content/drive')"
      ]
    },
    {
      "cell_type": "code",
      "source": [
        "# Configuração do logger\n",
        "# logging.basicConfig(level=logging.INFO, format='%(asctime)s - %(levelname)s - %(message)s')\n",
        "# logger = logging.getLogger(__name__)"
      ],
      "metadata": {
        "id": "HFDi9FVB7ut8"
      },
      "execution_count": null,
      "outputs": []
    },
    {
      "cell_type": "code",
      "source": [
        "# Configurações\n",
        "APP_NAME = \"tb_rate\"  # Alterar\n",
        "\n",
        "FILE_PATH = f\"/content/drive/My Drive/projetos/Projeto Integrador/dataset/bronze/{APP_NAME}/\"\n",
        "OUTPUT_PATH = f\"/content/drive/My Drive/projetos/Projeto Integrador/dataset/silver/{APP_NAME}/\"\n",
        "TABLE_NAME = \"tb_silver_rate\" # Alterar\n",
        "\n",
        "COLUMNS: List[str] = [\n",
        "    \"Age\",\n",
        "    \"BusinessYear\",\n",
        "    \"PlanId\",\n",
        "    \"IssuerId\",\n",
        "    \"StateCode\",\n",
        "    \"IndividualRate\",\n",
        "    \"IndividualTobaccoRate\"\n",
        "    ] # Alterar"
      ],
      "metadata": {
        "id": "-a7YmeSc7vSn"
      },
      "execution_count": null,
      "outputs": []
    },
    {
      "cell_type": "code",
      "source": [
        "def log_info(message: str):\n",
        "    \"\"\"Função para simular o comportamento do logger.info\"\"\"\n",
        "    current_time = datetime.now().strftime(\"%Y-%m-%d %H:%M:%S\")\n",
        "    print(f\"{current_time} - INFO - {message}\")\n",
        "\n",
        "def create_spark_session():\n",
        "    \"\"\"Cria e retorna uma sessão Spark.\"\"\"\n",
        "    log_info(\"Criando sessão Spark\")\n",
        "    return SparkSession.builder.appName(\"LoggerDemo\").getOrCreate()\n",
        "\n",
        "def define_silver_schema() -> StructType:\n",
        "    \"\"\"Define e retorna o schema para a tabela silver.\"\"\"\n",
        "    log_info(\"Definindo schema para a tabela silver\")\n",
        "    return StructType([\n",
        "        StructField(col, StringType(), True) for col in COLUMNS\n",
        "    ] + [\n",
        "        StructField(\"ingestDate\", TimestampType(), False),\n",
        "        StructField(\"partitionDate\", StringType(), False)\n",
        "    ])\n",
        "\n",
        "def read_and_process_data(spark: SparkSession, file_path: str, columns: List[str]) -> DataFrame:\n",
        "    \"\"\"Lê os dados do Parquet e processa para o formato desejado.\"\"\"\n",
        "    log_info(f\"Lendo e processando dados de {file_path}\")\n",
        "    df = spark.read.parquet(file_path)\n",
        "    return df.select(*columns).distinct() \\\n",
        "             .withColumn(\"ingestDate\", current_timestamp()) \\\n",
        "             .withColumn(\"partitionDate\", date_format(current_timestamp(), \"yyyyMMdd\"))\n",
        "\n",
        "def prepare_silver_data(df: DataFrame, schema: StructType) -> DataFrame:\n",
        "    \"\"\"Prepara os dados para o formato silver.\"\"\"\n",
        "    log_info(\"Preparando dados para o formato silver\")\n",
        "    return df.select([\n",
        "        col(c).cast(\"string\") for c in COLUMNS\n",
        "    ] + [\n",
        "        col(\"ingestDate\"),\n",
        "        col(\"partitionDate\")\n",
        "    ]).select(schema.fieldNames())\n",
        "\n",
        "def save_as_parquet(df: DataFrame, output_path: str):\n",
        "    \"\"\"Salva o DataFrame como arquivo Parquet no Google Drive.\"\"\"\n",
        "    log_info(f\"Salvando dados como Parquet em {output_path}\")\n",
        "    df.write \\\n",
        "      .mode(\"overwrite\") \\\n",
        "      .partitionBy(\"partitionDate\") \\\n",
        "      .parquet(output_path)"
      ],
      "metadata": {
        "id": "nqziMPDL7wHZ"
      },
      "execution_count": null,
      "outputs": []
    },
    {
      "cell_type": "code",
      "source": [
        "def main():\n",
        "    try:\n",
        "        spark = create_spark_session()\n",
        "        silver_schema = define_silver_schema()\n",
        "\n",
        "        df_selected = read_and_process_data(spark, FILE_PATH, COLUMNS)\n",
        "        df_silver = prepare_silver_data(df_selected, silver_schema)\n",
        "\n",
        "        save_as_parquet(df_silver, OUTPUT_PATH)\n",
        "\n",
        "        log_info(f\"Dados salvos como Parquet em: {OUTPUT_PATH}\")\n",
        "\n",
        "        # Verificar se o arquivo foi salvo corretamente\n",
        "        saved_df = spark.read.parquet(OUTPUT_PATH)\n",
        "        log_info(\"Schema dos dados salvos:\")\n",
        "        saved_df.printSchema()\n",
        "        log_info(\"Primeiras 5 linhas dos dados salvos:\")\n",
        "        saved_df.show(5)\n",
        "        log_info(f\"Contagem de registros salvos: {saved_df.count()}, na tabela: {TABLE_NAME}\")\n",
        "        log_info(\"Processo concluído com sucesso\")\n",
        "\n",
        "    except Exception as e:\n",
        "        current_time = datetime.now().strftime(\"%Y-%m-%d %H:%M:%S\")\n",
        "        print(f\"{current_time} - ERROR - Erro durante a execução: {str(e)}\")"
      ],
      "metadata": {
        "id": "-s3_b2GD7v8K"
      },
      "execution_count": null,
      "outputs": []
    },
    {
      "cell_type": "code",
      "source": [
        "if __name__ == \"__main__\":\n",
        "    main()"
      ],
      "metadata": {
        "id": "LgMphr1n77Uz"
      },
      "execution_count": null,
      "outputs": []
    }
  ]
}