{
  "nbformat": 4,
  "nbformat_minor": 0,
  "metadata": {
    "colab": {
      "provenance": []
    },
    "kernelspec": {
      "name": "python3",
      "display_name": "Python 3"
    },
    "language_info": {
      "name": "python"
    }
  },
  "cells": [
    {
      "cell_type": "code",
      "execution_count": 12,
      "metadata": {
        "colab": {
          "base_uri": "https://localhost:8080/"
        },
        "id": "7sPVo9807mSg",
        "outputId": "6809337a-f652-4f56-8c88-3255ed026392"
      },
      "outputs": [
        {
          "output_type": "stream",
          "name": "stdout",
          "text": [
            "Drive already mounted at /content/drive; to attempt to forcibly remount, call drive.mount(\"/content/drive\", force_remount=True).\n"
          ]
        }
      ],
      "source": [
        "from datetime import datetime\n",
        "from pyspark.sql import SparkSession, DataFrame\n",
        "from pyspark.sql.functions import current_timestamp, date_format, col, lit\n",
        "from pyspark.sql.types import StructType, StructField, StringType, TimestampType\n",
        "from typing import List\n",
        "from functools import reduce\n",
        "from google.colab import drive\n",
        "\n",
        "drive.mount('/content/drive')"
      ]
    },
    {
      "cell_type": "code",
      "source": [
        "# Configuração do logger\n",
        "# logging.basicConfig(level=logging.INFO, format='%(asctime)s - %(levelname)s - %(message)s')\n",
        "# logger = logging.getLogger(__name__)"
      ],
      "metadata": {
        "id": "MQ3MYVXi7tXh"
      },
      "execution_count": 13,
      "outputs": []
    },
    {
      "cell_type": "code",
      "source": [
        "# Configurações\n",
        "APP_NAMES = [\"tb_service_area\", \"tb_servicearea\"]\n",
        "BASE_PATH = \"/content/drive/My Drive/projetos/Projeto Integrador/dataset/\"\n",
        "OUTPUT_PATH = f\"{BASE_PATH}silver/tb_service_area/\"\n",
        "TABLE_NAME = \"tb_silver_service_area\"\n",
        "\n",
        "COLUMNS: List[str] = [\"BusinessYear\", \"IssuerId\",  \"StateCode\", \"ServiceAreaId\", \"ServiceAreaName\", \"MarketCoverage\", \"ZipCodes\", \"VersionNum\", \"County\", \"CoverEntireState\"] # Alterar"
      ],
      "metadata": {
        "id": "hODdnNUK7yGR"
      },
      "execution_count": 14,
      "outputs": []
    },
    {
      "cell_type": "code",
      "source": [
        "def log_info(message: str):\n",
        "    current_time = datetime.now().strftime(\"%Y-%m-%d %H:%M:%S\")\n",
        "    print(f\"{current_time} - INFO - {message}\")\n",
        "\n",
        "def log_error(message: str):\n",
        "    current_time = datetime.now().strftime(\"%Y-%m-%d %H:%M:%S\")\n",
        "    print(f\"{current_time} - ERROR - {message}\")\n",
        "\n",
        "def create_spark_session():\n",
        "    log_info(\"Criando sessão Spark\")\n",
        "    spark = SparkSession.builder.appName(\"UnifyServiceArea\").getOrCreate()\n",
        "    spark.conf.set(\"spark.sql.parquet.mergeSchema\", \"false\")\n",
        "    spark.conf.set(\"spark.sql.files.maxPartitionBytes\", \"128m\")\n",
        "    spark.conf.set(\"spark.sql.files.openCostInBytes\", \"134217728\")\n",
        "    spark.conf.set(\"spark.sql.broadcastTimeout\", \"3600\")\n",
        "    return spark\n",
        "\n",
        "def define_silver_schema() -> StructType:\n",
        "    log_info(\"Definindo schema para a tabela silver\")\n",
        "    return StructType([\n",
        "        StructField(col, StringType(), True) for col in COLUMNS\n",
        "    ] + [\n",
        "        StructField(\"ingestDate\", TimestampType(), False),\n",
        "        StructField(\"partitionDate\", StringType(), False),\n",
        "        StructField(\"source\", StringType(), False)\n",
        "    ])\n",
        "\n",
        "def read_and_process_data(spark: SparkSession, app_names: List[str], base_path: str, columns: List[str]) -> DataFrame:\n",
        "    dfs = []\n",
        "    for app_name in app_names:\n",
        "        file_path = f\"{base_path}bronze/{app_name}/\"\n",
        "        log_info(f\"Tentando ler dados de {file_path}\")\n",
        "        try:\n",
        "            df = spark.read.parquet(file_path)\n",
        "            log_info(f\"Dados lidos com sucesso de {file_path}\")\n",
        "            df_processed = df.select(*columns).distinct() \\\n",
        "                            .withColumn(\"ingestDate\", current_timestamp()) \\\n",
        "                            .withColumn(\"partitionDate\", date_format(current_timestamp(), \"yyyyMMdd\")) \\\n",
        "                            .withColumn(\"source\", lit(app_name))\n",
        "            dfs.append(df_processed)\n",
        "        except Exception as e:\n",
        "            log_error(f\"Erro ao ler dados de {file_path}: {str(e)}\")\n",
        "            continue\n",
        "\n",
        "    if not dfs:\n",
        "        raise ValueError(\"Nenhum dado foi lido com sucesso\")\n",
        "\n",
        "    return reduce(DataFrame.unionAll, dfs)\n",
        "\n",
        "def prepare_silver_data(df: DataFrame, schema: StructType) -> DataFrame:\n",
        "    log_info(\"Preparando dados para o formato silver\")\n",
        "    return df.select([\n",
        "        col(c).cast(\"string\") for c in COLUMNS\n",
        "    ] + [\n",
        "        col(\"ingestDate\"),\n",
        "        col(\"partitionDate\"),\n",
        "        col(\"source\")\n",
        "    ]).select(schema.fieldNames())\n",
        "\n",
        "def save_as_parquet(df: DataFrame, output_path: str):\n",
        "    log_info(f\"Salvando dados como Parquet em {output_path}\")\n",
        "    df.write \\\n",
        "      .mode(\"overwrite\") \\\n",
        "      .partitionBy(\"partitionDate\") \\\n",
        "      .parquet(output_path)"
      ],
      "metadata": {
        "id": "WnD-6Guf7x87"
      },
      "execution_count": 15,
      "outputs": []
    },
    {
      "cell_type": "code",
      "source": [
        "def main():\n",
        "    try:\n",
        "        spark = create_spark_session()\n",
        "        silver_schema = define_silver_schema()\n",
        "\n",
        "        df_combined = read_and_process_data(spark, APP_NAMES, BASE_PATH, COLUMNS)\n",
        "        df_silver = prepare_silver_data(df_combined, silver_schema)\n",
        "\n",
        "        save_as_parquet(df_silver, OUTPUT_PATH)\n",
        "\n",
        "        log_info(f\"Dados salvos como Parquet em: {OUTPUT_PATH}\")\n",
        "\n",
        "        # Verificar se o arquivo foi salvo corretamente\n",
        "        saved_df = spark.read.parquet(OUTPUT_PATH)\n",
        "        log_info(\"Schema dos dados salvos:\")\n",
        "        saved_df.printSchema()\n",
        "        log_info(\"Primeiras 5 linhas dos dados salvos:\")\n",
        "        saved_df.show(5)\n",
        "        log_info(f\"Contagem de registros salvos: {saved_df.count()}, na tabela: {TABLE_NAME}\")\n",
        "        log_info(\"Processo concluído com sucesso\")\n",
        "\n",
        "    except Exception as e:\n",
        "        log_error(f\"Erro durante a execução: {str(e)}\")"
      ],
      "metadata": {
        "id": "ecEQEDBm7x4s"
      },
      "execution_count": 16,
      "outputs": []
    },
    {
      "cell_type": "code",
      "source": [
        "if __name__ == \"__main__\":\n",
        "    main()"
      ],
      "metadata": {
        "colab": {
          "base_uri": "https://localhost:8080/"
        },
        "id": "DqXhSvUJ7xzk",
        "outputId": "2b3f4cd5-4e50-4fac-a036-16304c78c06e"
      },
      "execution_count": 17,
      "outputs": [
        {
          "output_type": "stream",
          "name": "stdout",
          "text": [
            "2025-03-11 18:24:48 - INFO - Criando sessão Spark\n",
            "2025-03-11 18:24:48 - INFO - Definindo schema para a tabela silver\n",
            "2025-03-11 18:24:48 - INFO - Tentando ler dados de /content/drive/My Drive/projetos/Projeto Integrador/dataset/bronze/tb_service_area/\n",
            "2025-03-11 18:24:48 - INFO - Dados lidos com sucesso de /content/drive/My Drive/projetos/Projeto Integrador/dataset/bronze/tb_service_area/\n",
            "2025-03-11 18:24:48 - INFO - Tentando ler dados de /content/drive/My Drive/projetos/Projeto Integrador/dataset/bronze/tb_servicearea/\n",
            "2025-03-11 18:24:48 - INFO - Dados lidos com sucesso de /content/drive/My Drive/projetos/Projeto Integrador/dataset/bronze/tb_servicearea/\n",
            "2025-03-11 18:24:49 - INFO - Preparando dados para o formato silver\n",
            "2025-03-11 18:24:49 - INFO - Salvando dados como Parquet em /content/drive/My Drive/projetos/Projeto Integrador/dataset/silver/tb_service_area/\n",
            "2025-03-11 18:25:14 - INFO - Dados salvos como Parquet em: /content/drive/My Drive/projetos/Projeto Integrador/dataset/silver/tb_service_area/\n",
            "2025-03-11 18:25:14 - INFO - Schema dos dados salvos:\n",
            "root\n",
            " |-- BusinessYear: string (nullable = true)\n",
            " |-- IssuerId: string (nullable = true)\n",
            " |-- StateCode: string (nullable = true)\n",
            " |-- ServiceAreaId: string (nullable = true)\n",
            " |-- ServiceAreaName: string (nullable = true)\n",
            " |-- MarketCoverage: string (nullable = true)\n",
            " |-- ZipCodes: string (nullable = true)\n",
            " |-- VersionNum: string (nullable = true)\n",
            " |-- County: string (nullable = true)\n",
            " |-- CoverEntireState: string (nullable = true)\n",
            " |-- ingestDate: timestamp (nullable = true)\n",
            " |-- source: string (nullable = true)\n",
            " |-- partitionDate: integer (nullable = true)\n",
            "\n",
            "2025-03-11 18:25:14 - INFO - Primeiras 5 linhas dos dados salvos:\n",
            "+------------+--------+---------+-------------+----------------+------------------+--------------------+----------+------+----------------+--------------------+---------------+-------------+\n",
            "|BusinessYear|IssuerId|StateCode|ServiceAreaId| ServiceAreaName|    MarketCoverage|            ZipCodes|VersionNum|County|CoverEntireState|          ingestDate|         source|partitionDate|\n",
            "+------------+--------+---------+-------------+----------------+------------------+--------------------+----------+------+----------------+--------------------+---------------+-------------+\n",
            "|        2014|   95185|       VA|       VAS001|Service Area 001|        Individual|22448, 22451, 224...|         8| 51099|              No|2025-03-11 18:24:...|tb_service_area|     20250311|\n",
            "|        2014|   20393|       MI|       MIS001|  Service Area L|SHOP (Small Group)|48811, 48818, 488...|         7| 26117|              No|2025-03-11 18:24:...|tb_service_area|     20250311|\n",
            "|        2014|   74313|       OH|       OHS001|  Northwest Ohio|        Individual|43011, 43014, 430...|         4| 39083|              No|2025-03-11 18:24:...|tb_service_area|     20250311|\n",
            "|        2014|   45002|       MI|       MIS001|      Livingston|SHOP (Small Group)|48114, 48116, 481...|         9| 26093|              No|2025-03-11 18:24:...|tb_service_area|     20250311|\n",
            "|        2014|   41895|       MI|       MIS050|          Macomb|        Individual|48021, 48038, 480...|        10| 26099|              No|2025-03-11 18:24:...|tb_service_area|     20250311|\n",
            "+------------+--------+---------+-------------+----------------+------------------+--------------------+----------+------+----------------+--------------------+---------------+-------------+\n",
            "only showing top 5 rows\n",
            "\n",
            "2025-03-11 18:25:17 - INFO - Contagem de registros salvos: 42184, na tabela: tb_silver_service_area\n",
            "2025-03-11 18:25:17 - INFO - Processo concluído com sucesso\n"
          ]
        }
      ]
    }
  ]
}