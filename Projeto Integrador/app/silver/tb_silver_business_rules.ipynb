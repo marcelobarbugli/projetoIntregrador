{
  "nbformat": 4,
  "nbformat_minor": 0,
  "metadata": {
    "colab": {
      "provenance": []
    },
    "kernelspec": {
      "name": "python3",
      "display_name": "Python 3"
    },
    "language_info": {
      "name": "python"
    }
  },
  "cells": [
    {
      "cell_type": "markdown",
      "source": [
        "### Imports"
      ],
      "metadata": {
        "id": "qUDvHqpBVnSw"
      }
    },
    {
      "cell_type": "code",
      "execution_count": 13,
      "metadata": {
        "colab": {
          "base_uri": "https://localhost:8080/"
        },
        "id": "uuzonf6CHP7x",
        "outputId": "86b21b06-a0a9-4705-adc6-d0584206a823"
      },
      "outputs": [
        {
          "output_type": "stream",
          "name": "stdout",
          "text": [
            "Drive already mounted at /content/drive; to attempt to forcibly remount, call drive.mount(\"/content/drive\", force_remount=True).\n"
          ]
        }
      ],
      "source": [
        "from datetime import datetime\n",
        "from pyspark.sql import SparkSession, DataFrame\n",
        "from pyspark.sql.functions import current_timestamp, date_format, col, lit\n",
        "from pyspark.sql.types import StructType, StructField, StringType, TimestampType\n",
        "from typing import List\n",
        "from functools import reduce\n",
        "from google.colab import drive\n",
        "\n",
        "drive.mount('/content/drive')"
      ]
    },
    {
      "cell_type": "code",
      "source": [
        "# Configuração do logger\n",
        "# logging.basicConfig(level=logging.INFO, format='%(asctime)s - %(levelname)s - %(message)s')\n",
        "# logger = logging.getLogger(__name__)"
      ],
      "metadata": {
        "id": "e1dNiorBgdck"
      },
      "execution_count": 14,
      "outputs": []
    },
    {
      "cell_type": "markdown",
      "source": [
        "### Constantes"
      ],
      "metadata": {
        "id": "koJRB2P5JBYK"
      }
    },
    {
      "cell_type": "code",
      "source": [
        "# Configurações\n",
        "APP_NAME = \"tb_business_rules\" # Alterar\n",
        "\n",
        "FILE_PATH = f\"/content/drive/My Drive/projetos/Projeto Integrador/dataset/bronze/{APP_NAME}/\"\n",
        "OUTPUT_PATH = f\"/content/drive/My Drive/projetos/Projeto Integrador/dataset/silver/{APP_NAME}/\"\n",
        "TABLE_NAME = \"tb_silver_business_rules\" # Alterar\n",
        "\n",
        "COLUMNS: List[str] = [\n",
        "    \"IssuerId\",\n",
        "    \"BusinessYear\",\n",
        "    \"MarketCoverage\",\n",
        "    \"ProductId\",\n",
        "    \"StateCode\"\n",
        "    ] # Alterar"
      ],
      "metadata": {
        "id": "ybagS5wZIKck"
      },
      "execution_count": 15,
      "outputs": []
    },
    {
      "cell_type": "markdown",
      "source": [
        "### Processamento Principal"
      ],
      "metadata": {
        "id": "G_5UGHM_jgRd"
      }
    },
    {
      "cell_type": "code",
      "source": [
        "def log_info(message: str):\n",
        "    \"\"\"Função para simular o comportamento do logger.info\"\"\"\n",
        "    current_time = datetime.now().strftime(\"%Y-%m-%d %H:%M:%S\")\n",
        "    print(f\"{current_time} - INFO - {message}\")\n",
        "\n",
        "def create_spark_session():\n",
        "    \"\"\"Cria e retorna uma sessão Spark.\"\"\"\n",
        "    log_info(\"Criando sessão Spark\")\n",
        "    return SparkSession.builder.appName(\"LoggerDemo\").getOrCreate()\n",
        "\n",
        "def define_silver_schema() -> StructType:\n",
        "    \"\"\"Define e retorna o schema para a tabela silver.\"\"\"\n",
        "    log_info(\"Definindo schema para a tabela silver\")\n",
        "    return StructType([\n",
        "        StructField(col, StringType(), True) for col in COLUMNS\n",
        "    ] + [\n",
        "        StructField(\"ingestDate\", TimestampType(), False),\n",
        "        StructField(\"partitionDate\", StringType(), False)\n",
        "    ])\n",
        "\n",
        "def read_and_process_data(spark: SparkSession, file_path: str, columns: List[str]) -> DataFrame:\n",
        "    \"\"\"Lê os dados do Parquet e processa para o formato desejado.\"\"\"\n",
        "    log_info(f\"Lendo e processando dados de {file_path}\")\n",
        "    df = spark.read.parquet(file_path)\n",
        "    return df.select(*columns).distinct() \\\n",
        "             .withColumn(\"ingestDate\", current_timestamp()) \\\n",
        "             .withColumn(\"partitionDate\", date_format(current_timestamp(), \"yyyyMMdd\"))\n",
        "\n",
        "def prepare_silver_data(df: DataFrame, schema: StructType) -> DataFrame:\n",
        "    \"\"\"Prepara os dados para o formato silver.\"\"\"\n",
        "    log_info(\"Preparando dados para o formato silver\")\n",
        "    return df.select([\n",
        "        col(c).cast(\"string\") for c in COLUMNS\n",
        "    ] + [\n",
        "        col(\"ingestDate\"),\n",
        "        col(\"partitionDate\")\n",
        "    ]).select(schema.fieldNames())\n",
        "\n",
        "def save_as_parquet(df: DataFrame, output_path: str):\n",
        "    \"\"\"Salva o DataFrame como arquivo Parquet no Google Drive.\"\"\"\n",
        "    log_info(f\"Salvando dados como Parquet em {output_path}\")\n",
        "    df.write \\\n",
        "      .mode(\"overwrite\") \\\n",
        "      .partitionBy(\"partitionDate\") \\\n",
        "      .parquet(output_path)"
      ],
      "metadata": {
        "id": "vSBdV3o4I7q4"
      },
      "execution_count": 16,
      "outputs": []
    },
    {
      "cell_type": "code",
      "source": [
        "def main():\n",
        "    try:\n",
        "        spark = create_spark_session()\n",
        "        silver_schema = define_silver_schema()\n",
        "\n",
        "        df_selected = read_and_process_data(spark, FILE_PATH, COLUMNS)\n",
        "        df_silver = prepare_silver_data(df_selected, silver_schema)\n",
        "\n",
        "        save_as_parquet(df_silver, OUTPUT_PATH)\n",
        "\n",
        "        log_info(f\"Dados salvos como Parquet em: {OUTPUT_PATH}\")\n",
        "\n",
        "        # Verificar se o arquivo foi salvo corretamente\n",
        "        saved_df = spark.read.parquet(OUTPUT_PATH)\n",
        "        log_info(\"Schema dos dados salvos:\")\n",
        "        saved_df.printSchema()\n",
        "        log_info(\"Primeiras 5 linhas dos dados salvos:\")\n",
        "        saved_df.show(5)\n",
        "        log_info(f\"Contagem de registros salvos: {saved_df.count()}, na tabela: {TABLE_NAME}\")\n",
        "        log_info(\"Processo concluído com sucesso\")\n",
        "\n",
        "    except Exception as e:\n",
        "        current_time = datetime.now().strftime(\"%Y-%m-%d %H:%M:%S\")\n",
        "        print(f\"{current_time} - ERROR - Erro durante a execução: {str(e)}\")\n"
      ],
      "metadata": {
        "id": "wgKkmpKWLYf7"
      },
      "execution_count": 21,
      "outputs": []
    },
    {
      "cell_type": "code",
      "source": [
        "if __name__ == \"__main__\":\n",
        "    main()"
      ],
      "metadata": {
        "colab": {
          "base_uri": "https://localhost:8080/"
        },
        "id": "w6u118qPUt2u",
        "outputId": "6d942858-1950-4246-cbde-f1e10fcb15e0"
      },
      "execution_count": 22,
      "outputs": [
        {
          "output_type": "stream",
          "name": "stdout",
          "text": [
            "2025-03-11 14:15:34 - INFO - Criando sessão Spark\n",
            "2025-03-11 14:15:34 - INFO - Definindo schema para a tabela silver\n",
            "2025-03-11 14:15:34 - INFO - Lendo e processando dados de /content/drive/My Drive/projetos/Projeto Integrador/dataset/bronze/tb_business_rules/\n",
            "2025-03-11 14:15:34 - INFO - Preparando dados para o formato silver\n",
            "2025-03-11 14:15:34 - INFO - Salvando dados como Parquet em /content/drive/My Drive/projetos/Projeto Integrador/dataset/silver/tb_business_rules/\n",
            "2025-03-11 14:15:35 - INFO - Dados salvos como Parquet em: /content/drive/My Drive/projetos/Projeto Integrador/dataset/silver/tb_business_rules/\n",
            "2025-03-11 14:15:36 - INFO - Schema dos dados salvos:\n",
            "root\n",
            " |-- IssuerId: string (nullable = true)\n",
            " |-- BusinessYear: string (nullable = true)\n",
            " |-- MarketCoverage: string (nullable = true)\n",
            " |-- ProductId: string (nullable = true)\n",
            " |-- StateCode: string (nullable = true)\n",
            " |-- ingestDate: timestamp (nullable = true)\n",
            " |-- partitionDate: integer (nullable = true)\n",
            "\n",
            "2025-03-11 14:15:36 - INFO - Primeiras 5 linhas dos dados salvos:\n",
            "+--------+------------+------------------+----------+---------+--------------------+-------------+\n",
            "|IssuerId|BusinessYear|    MarketCoverage| ProductId|StateCode|          ingestDate|partitionDate|\n",
            "+--------+------------+------------------+----------+---------+--------------------+-------------+\n",
            "|   45495|        2015|        Individual|45495GA001|       GA|2025-03-11 14:15:...|     20250311|\n",
            "|   58302|        2015|SHOP (Small Group)|58302LA003|       LA|2025-03-11 14:15:...|     20250311|\n",
            "|   12513|        2015|SHOP (Small Group)|12513OK003|       OK|2025-03-11 14:15:...|     20250311|\n",
            "|   70194|        2015|        Individual|70194PA014|       PA|2025-03-11 14:15:...|     20250311|\n",
            "|   45127|        2015|        Individual|45127PA003|       PA|2025-03-11 14:15:...|     20250311|\n",
            "+--------+------------+------------------+----------+---------+--------------------+-------------+\n",
            "only showing top 5 rows\n",
            "\n",
            "2025-03-11 14:15:36 - INFO - Contagem dos dados salvos: 5488\n",
            "2025-03-11 14:15:36 - INFO - Processo concluído com sucesso\n"
          ]
        }
      ]
    }
  ]
}